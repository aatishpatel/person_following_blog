{
 "cells": [
  {
   "cell_type": "markdown",
   "metadata": {},
   "source": [
    "### Here is the simple steps to train model using NanoNets API\n",
    "\n",
    "Previously in blog, we have an intro to Object Detection and how to make predection on tensorflow pre-trained model.\n",
    "Tensorflow pre-trained model has been trained on [COCO dataset](http://cocodataset.org/) which has 90 different objects annotated.\n",
    "\n",
    "Now, what if you want to detect your choice of objects (may or may not be in 90 classes)? So here, we are going to discuss how can we make custom object detection model using simplest way and with less relative data.\n",
    "\n",
    "\n",
    "#### Step 1: Data Preparation\n",
    "\n",
    "What we need? Few images (around 100-200) and their object bounding box annotations. There are many ways to store bounding box annotation, but here I am using XML file to store annotation.\n",
    "\n",
    "Make a work directiory, and open this notebook in same diretory.\n",
    "keep all images in one floder and annotation(.xml) in other folder (name of annotation file should be same as corresponding name of image)\n",
    "\n",
    "Also need to have list of all objects (same name given in annotation)."
   ]
  },
  {
   "cell_type": "code",
   "execution_count": 35,
   "metadata": {
    "collapsed": true
   },
   "outputs": [],
   "source": [
    "## change the folder path if needed\n",
    "image_folder = \"../data/Images\"\n",
    "annotation_folder = \"../data/Annotations\"\n",
    "object_list = ['person'] ## will refer as categories\n",
    "extentions = ['.jpeg'] ## list of image extension"
   ]
  },
  {
   "cell_type": "markdown",
   "metadata": {},
   "source": [
    "#### Step 2: Create NanoNets Account\n",
    "\n",
    "To use NanoNets API to train model, you first need to create account on nanonets and get your api key from there"
   ]
  },
  {
   "cell_type": "code",
   "execution_count": 36,
   "metadata": {
    "collapsed": true
   },
   "outputs": [],
   "source": [
    "AUTH_KEY = \"\" ## put your api key here"
   ]
  },
  {
   "cell_type": "code",
   "execution_count": 37,
   "metadata": {
    "collapsed": true
   },
   "outputs": [],
   "source": [
    "### imports\n",
    "\n",
    "import requests, json, os\n",
    "import xml.etree.ElementTree as ET\n",
    "from tqdm import tqdm\n",
    "from multiprocessing import Pool"
   ]
  },
  {
   "cell_type": "code",
   "execution_count": 38,
   "metadata": {
    "collapsed": true
   },
   "outputs": [],
   "source": [
    "#### CONSTANTS\n",
    "BASE_URL = \"https://app.nanonets.com/api/v2/ObjectDetection/Model/\"\n",
    "MODEL_URL = \"https://app.nanonets.com/api/v2/ObjectDetection/Models/\""
   ]
  },
  {
   "cell_type": "markdown",
   "metadata": {},
   "source": [
    "#### Step 3: Initialize new model"
   ]
  },
  {
   "cell_type": "code",
   "execution_count": 39,
   "metadata": {
    "collapsed": true
   },
   "outputs": [],
   "source": [
    "def print_result(result):\n",
    "    model_id, model_type, categories, state = (result[\"model_id\"], result[\"model_type\"], result[\"categories\"], result[\"state\"])\n",
    "    \n",
    "    print (\"MODEL ID : %s\"%model_id)\n",
    "    for cat in categories:\n",
    "        print (\"Label: %s :: Count: %d\"%(cat['name'], cat['count']))\n",
    "    \n",
    "    print (\"CURRENT STATE :: %s\"%(result['status']))\n",
    "    print (\"Model Accuracy : %f\"%(result['accuracy']))\n",
    "\n",
    "def create_new_model(categories):\n",
    "    \"\"\" function will create a new model architecture for training\n",
    "    \n",
    "    Args:\n",
    "    categories: List of objects you want to predict\n",
    "    \n",
    "    return:\n",
    "    model_id: a unique reference to new created model\n",
    "    \"\"\"\n",
    "    \n",
    "    \n",
    "    payload = json.dumps({\"categories\" : categories})\n",
    "    headers = {\n",
    "        'Content-Type': \"application/json\",\n",
    "        }\n",
    "\n",
    "    response = requests.request(\"POST\", BASE_URL, headers=headers, auth=requests.auth.HTTPBasicAuth(AUTH_KEY, ''), data=payload)\n",
    "\n",
    "    result = json.loads(response.text)\n",
    "    print_result(result)\n",
    "    model_id, model_type, categories = (result[\"model_id\"], result[\"model_type\"], result[\"categories\"])\n",
    "    return model_id"
   ]
  },
  {
   "cell_type": "code",
   "execution_count": 40,
   "metadata": {},
   "outputs": [
    {
     "name": "stdout",
     "output_type": "stream",
     "text": [
      "('MODEL ID : ', u'5d96e0a4-5b7b-4a2a-af2d-26238a43e9ad')\n",
      "Label: person :: Count: 0\n",
      "CURRENT STATE :: Model created\n",
      "Model Accuracy : 0.000000\n",
      "5d96e0a4-5b7b-4a2a-af2d-26238a43e9ad\n"
     ]
    }
   ],
   "source": [
    "model_id = create_new_model(object_list)\n",
    "print model_id"
   ]
  },
  {
   "cell_type": "markdown",
   "metadata": {},
   "source": [
    "#### Step 4: upload data\n",
    "We have created a new model, now we need to uplaod the data to train model.\n",
    "Here is the code the upload and xml_file data to model"
   ]
  },
  {
   "cell_type": "code",
   "execution_count": 41,
   "metadata": {
    "collapsed": true
   },
   "outputs": [],
   "source": [
    "def get_model_info(model_id):\n",
    "    \"\"\"function to get information about model at any time\n",
    "    Args:\n",
    "    model_id: unique model_id generated at model creation time\n",
    "    \"\"\"\n",
    "    \n",
    "    response = requests.request('GET', '%s%s'%(BASE_URL, model_id), auth= requests.auth.HTTPBasicAuth(AUTH_KEY, ''))\n",
    "    result = json.loads(response.text)\n",
    "    print_result(result)\n",
    "    model_id, model_type, categories, state = (result[\"model_id\"], result[\"model_type\"], result[\"categories\"], result[\"state\"])\n",
    "    return model_id, model_type, categories, state"
   ]
  },
  {
   "cell_type": "code",
   "execution_count": 42,
   "metadata": {
    "collapsed": true
   },
   "outputs": [],
   "source": [
    "def get_label(s):\n",
    "    return s.lower().replace(' ', '')\n",
    "\n",
    "def get_annotaion_file_name(image_file):\n",
    "    return os.path.join(annotation_folder, \"%s.gt\"%(image_file))\n",
    "\n",
    "def valid_bb(bb):\n",
    "    xmin, ymin, xmax, ymax = bb\n",
    "    \n",
    "    xmin = max(xmin, 0)\n",
    "    ymin = max(ymin, 0)\n",
    "    \n",
    "    if xmin >= xmax: return False\n",
    "    if ymin >= ymax: return False\n",
    "    \n",
    "    return [xmin, ymin, xmax, ymax]\n",
    "\n",
    "def create_annotation_to_object(image_file):\n",
    "    annotation_file_path = get_annotaion_file_name(image_file)\n",
    "    if not os.path.isfile(annotation_file_path): return False\n",
    "    \n",
    "    bb_list = filter(None, open(annotation_file_path).read().split('\\n'))\n",
    "    object_list = []\n",
    "    for bb_info in bb_list:\n",
    "        try:\n",
    "            xmin, ymin, xmax, ymax, label_text = bb_info.split(' ')\n",
    "            label_text = get_label(label_text)\n",
    "            bb = valid_bb(map(int, [xmin, ymin, xmax, ymax]))\n",
    "            if bb:\n",
    "                bndbox = {}\n",
    "                bndbox['xmin'] = bb[0]\n",
    "                bndbox['ymin'] = bb[1]\n",
    "                bndbox['xmax'] = bb[2]\n",
    "                bndbox['ymax'] = bb[3]\n",
    "                object_list.append({'name': label_text, 'bndbox': bndbox})\n",
    "        except:\n",
    "            print (\"Error in BB : %s for Image : %s\"%(bb_info, image_file))\n",
    "    return object_list\n",
    "\n",
    "def upload_file_data(f):\n",
    "    if not f.endswith(tuple(extentions)): return 0\n",
    "    print (f)\n",
    "    filename = os.path.join(image_folder, f)\n",
    "    file = open(filename, 'rb')\n",
    "    \n",
    "    object_data = create_annotation_to_object(f)\n",
    "    if not object_data: return 0\n",
    "    object_data = json.dumps(object_data)\n",
    "    \n",
    "    data = {'file' : file,\n",
    "                'data' :('', '[{\"filename\":\"%s\", \"object\": %s}]'%(f, object_data)),\n",
    "                'modelId' :('', '%s'%model_id)}\n",
    "    response = requests.post('%s%s/UploadFile/'%(BASE_URL, model_id), auth=requests.auth.HTTPBasicAuth(AUTH_KEY, ''), files=data)\n",
    "    return 1\n",
    "    \n",
    "def upload_objects_by_file(model_id):\n",
    "    pool = Pool(4)\n",
    "    \n",
    "    image_count = 0\n",
    "    print (\"uploading images....\")\n",
    "    results = pool.map(upload_file_data, os.listdir(image_folder))\n",
    "    return get_model_info(model_id)"
   ]
  },
  {
   "cell_type": "code",
   "execution_count": 43,
   "metadata": {
    "scrolled": true
   },
   "outputs": [
    {
     "name": "stdout",
     "output_type": "stream",
     "text": [
      "img_Sat Apr  4 17:51:03 2015N_13.jpeg\n",
      "img_Sat Apr  4 17:32:09 2015N_27.jpeg\n",
      "img_Sat Apr  4 17:33:18 2015N_34.jpeg\n",
      "img_Sat Apr  4 17:19:18 2015N_58.jpeg\n",
      "img_Sat Apr  4 17:35:19 2015N_3.jpeg\n",
      "img_Sat Apr  4 17:48:22 2015N_12.jpeg\n",
      "img_Sun Feb 22 16:01:29 2015N_379.jpeg\n",
      "uploading images....\n",
      "img_Sat Apr  4 17:51:58 2015N_31.jpeg\n",
      "img_Sat Apr  4 17:31:25 2015N_10.jpeg\n",
      "img_Sat Apr  4 17:52:27 2015N_40.jpeg\n",
      "img_Sat Apr  4 17:53:22 2015N_52.jpeg\n",
      "img_Sat Apr  4 17:27:04 2015N_2.jpeg\n",
      "img_Sun Feb 22 15:42:45 2015N_38.jpeg\n",
      "img_Sat Apr  4 17:47:52 2015N_8.jpeg\n",
      "img_Sat Apr  4 17:38:44 2015N_8.jpeg\n",
      "img_Sun Feb 22 16:00:25 2015N_256.jpeg\n",
      "img_Sat Apr  4 17:32:02 2015N_23.jpeg\n",
      "img_Sat Apr  4 17:53:08 2015N_49.jpeg\n",
      "img_Sun Feb 22 16:00:16 2015N_239.jpeg\n",
      "img_Sat Apr  4 17:45:59 2015N_32.jpeg\n",
      "img_Sat Apr  4 17:12:22 2015N_19.jpeg\n",
      "img_Sat Apr  4 17:38:45 2015N_9.jpeg\n",
      "img_Sat Apr  4 17:32:47 2015N_31.jpeg\n",
      "img_Sat Apr  4 17:31:29 2015N_14.jpeg\n",
      "img_Sat Apr  4 17:12:06 2015N_13.jpeg\n",
      "img_Sun Feb 22 15:49:11 2015N_86.jpeg\n",
      "img_Sun Feb 22 16:02:58 2015N_502.jpeg\n",
      "img_Sat Apr  4 17:44:27 2015N_13.jpeg\n",
      "img_Sat Apr  4 17:44:25 2015N_11.jpeg\n",
      "img_Sun Feb 22 15:55:42 2015N_0.jpeg\n",
      "img_Sun Feb 22 16:00:52 2015N_294.jpeg\n",
      "img_Sun Feb 22 15:55:42 2015N_1.jpeg\n",
      "img_Sat Apr  4 17:11:42 2015N_7.jpeg\n",
      "img_Sat Apr  4 17:27:42 2015N_3.jpeg\n",
      "img_Sat Apr  4 17:53:09 2015N_50.jpeg\n",
      "img_Sat Apr  4 17:36:47 2015N_0.jpeg\n",
      "img_Sat Apr  4 17:33:22 2015N_35.jpeg\n",
      "img_Sat Apr  4 17:51:33 2015N_23.jpeg\n",
      "img_Sun Feb 22 15:41:34 2015N_23.jpeg\n",
      "img_Sun Feb 22 15:49:40 2015N_120.jpeg\n",
      "img_Sun Feb 22 15:42:31 2015N_15.jpeg\n",
      "img_Sat Apr  4 17:11:28 2015N_2.jpeg\n",
      "img_Sun Feb 22 16:00:52 2015N_295.jpeg\n",
      "img_Sat Apr  4 17:31:26 2015N_11.jpeg\n",
      "img_Sat Apr  4 17:51:59 2015N_32.jpeg\n",
      "img_Sat Apr  4 17:50:05 2015N_0.jpeg\n",
      "img_Sat Apr  4 17:50:10 2015N_1.jpeg\n",
      "img_Sat Apr  4 17:12:04 2015N_11.jpeg\n",
      "img_Sat Apr  4 17:35:45 2015N_10.jpeg\n",
      "img_Sat Apr  4 17:35:46 2015N_11.jpeg\n",
      "img_Sat Apr  4 17:32:01 2015N_22.jpeg\n",
      "img_Sat Apr  4 17:44:27 2015N_12.jpeg\n",
      "img_Sat Apr  4 17:44:15 2015N_1.jpeg\n",
      "img_Sat Apr  4 17:35:32 2015N_7.jpeg\n",
      "img_Sat Apr  4 17:44:16 2015N_3.jpeg\n",
      "img_Sun Feb 22 15:48:28 2015N_63.jpeg\n",
      "img_Sat Apr  4 17:35:09 2015N_0.jpeg\n",
      "img_Sat Apr  4 17:12:05 2015N_12.jpeg\n",
      "img_Sat Apr  4 17:31:49 2015N_19.jpeg\n",
      "img_Sun Feb 22 15:29:54 2015N_21.jpeg\n",
      "img_Sat Apr  4 17:47:51 2015N_7.jpeg\n",
      "img_Sat Apr  4 17:47:47 2015N_4.jpeg\n",
      "img_Sat Apr  4 17:53:08 2015N_48.jpeg\n",
      "img_Sun Feb 22 15:49:23 2015N_101.jpeg\n",
      "img_Sat Apr  4 17:18:39 2015N_50.jpeg\n",
      "img_Sun Feb 22 16:00:51 2015N_293.jpeg\n",
      "img_Sat Apr  4 17:12:19 2015N_17.jpeg\n",
      "img_Sat Apr  4 17:11:54 2015N_9.jpeg\n",
      "img_Sat Apr  4 17:50:23 2015N_8.jpeg\n",
      "img_Sat Apr  4 17:13:14 2015N_30.jpeg\n",
      "img_Sat Apr  4 17:33:44 2015N_37.jpeg\n",
      "img_Sat Apr  4 17:47:50 2015N_6.jpeg\n",
      "img_Sat Apr  4 17:13:35 2015N_34.jpeg\n",
      "img_Sat Apr  4 17:50:13 2015N_3.jpeg\n",
      "img_Sun Feb 22 16:00:48 2015N_283.jpeg\n",
      "img_Sat Apr  4 17:47:35 2015N_1.jpeg\n",
      "img_Sun Feb 22 16:02:55 2015N_495.jpeg\n",
      "img_Sat Apr  4 17:44:44 2015N_22.jpeg\n",
      "img_Sun Feb 22 16:01:27 2015N_373.jpeg\n",
      "img_Sat Apr  4 17:50:12 2015N_2.jpeg\n",
      "img_Sun Feb 22 15:56:44 2015N_93.jpeg\n",
      "img_Sat Apr  4 17:18:56 2015N_55.jpeg\n",
      "img_Sat Apr  4 17:52:16 2015N_39.jpeg\n",
      "img_Sat Apr  4 17:44:16 2015N_2.jpeg\n",
      "img_Sat Apr  4 17:33:43 2015N_36.jpeg\n",
      "img_Sat Apr  4 17:37:25 2015N_1.jpeg\n",
      "img_Sat Apr  4 17:48:42 2015N_15.jpeg\n",
      "img_Sun Feb 22 15:55:44 2015N_7.jpeg\n",
      "img_Sat Apr  4 17:44:15 2015N_0.jpeg\n",
      "img_Sun Feb 22 15:56:14 2015N_76.jpeg\n",
      "img_Sun Feb 22 15:48:01 2015N_49.jpeg\n",
      "img_Sun Feb 22 16:00:09 2015N_218.jpeg\n",
      "img_Sat Apr  4 17:48:32 2015N_14.jpeg\n",
      "img_Sat Apr  4 17:45:20 2015N_25.jpeg\n",
      "img_Sat Apr  4 17:51:05 2015N_16.jpeg\n",
      "img_Sun Feb 22 16:03:36 2015N_575.jpeg\n",
      "img_Sat Apr  4 17:18:48 2015N_53.jpeg\n",
      "img_Sat Apr  4 17:13:17 2015N_31.jpeg\n",
      "img_Sat Apr  4 17:52:52 2015N_45.jpeg\n",
      "img_Sat Apr  4 17:52:51 2015N_44.jpeg\n",
      "img_Sat Apr  4 17:51:33 2015N_24.jpeg\n",
      "img_Sat Apr  4 17:44:20 2015N_5.jpeg\n",
      "img_Sat Apr  4 17:51:44 2015N_28.jpeg\n",
      "img_Sat Apr  4 17:32:11 2015N_29.jpeg\n",
      "img_Sat Apr  4 17:11:26 2015N_1.jpeg\n",
      "img_Sat Apr  4 17:50:20 2015N_7.jpeg\n",
      "img_Sat Apr  4 17:47:46 2015N_3.jpeg\n",
      "img_Sat Apr  4 17:32:05 2015N_24.jpeg\n",
      "img_Sat Apr  4 17:35:15 2015N_2.jpeg\n",
      "img_Sat Apr  4 17:50:15 2015N_4.jpeg\n",
      "img_Sat Apr  4 17:13:12 2015N_28.jpeg\n",
      "img_Sun Feb 22 16:01:26 2015N_369.jpeg\n",
      "img_Sat Apr  4 17:44:23 2015N_7.jpeg\n",
      "img_Sat Apr  4 17:38:33 2015N_3.jpeg\n",
      "img_Sat Apr  4 17:28:11 2015N_4.jpeg\n",
      "img_Sun Feb 22 15:52:21 2015N_7.jpeg\n",
      "img_Sun Feb 22 16:03:19 2015N_540.jpeg\n",
      "img_Sat Apr  4 17:51:06 2015N_17.jpeg\n",
      "img_Sat Apr  4 17:14:33 2015N_39.jpeg\n",
      "img_Sat Apr  4 17:31:51 2015N_21.jpeg\n",
      "img_Sat Apr  4 17:47:40 2015N_2.jpeg\n",
      "img_Sat Apr  4 17:52:53 2015N_46.jpeg\n",
      "img_Sat Apr  4 17:52:54 2015N_47.jpeg\n",
      "img_Sat Apr  4 17:16:35 2015N_45.jpeg\n",
      "img_Sat Apr  4 17:18:51 2015N_54.jpeg\n",
      "img_Sat Apr  4 17:19:04 2015N_56.jpeg\n",
      "img_Sun Feb 22 16:04:16 2015N_639.jpeg\n",
      "img_Sun Feb 22 16:00:01 2015N_203.jpeg\n",
      "img_Sun Feb 22 15:48:09 2015N_57.jpeg\n",
      "img_Sat Apr  4 17:44:31 2015N_17.jpeg\n",
      "img_Sat Apr  4 17:51:14 2015N_21.jpeg\n",
      "img_Sun Feb 22 16:01:36 2015N_398.jpeg\n",
      "img_Sat Apr  4 17:11:31 2015N_3.jpeg\n",
      "img_Sat Apr  4 17:14:47 2015N_43.jpeg\n",
      "img_Sat Apr  4 17:51:11 2015N_20.jpeg\n",
      "img_Sat Apr  4 17:31:30 2015N_15.jpeg\n",
      "img_Sat Apr  4 17:51:05 2015N_15.jpeg\n",
      "img_Sat Apr  4 17:12:16 2015N_15.jpeg\n",
      "img_Sat Apr  4 17:51:03 2015N_14.jpeg\n",
      "img_Sun Feb 22 15:43:12 2015N_113.jpeg\n",
      "img_Sun Feb 22 16:03:38 2015N_581.jpeg\n",
      "img_Sat Apr  4 17:14:32 2015N_38.jpeg\n",
      "img_Sat Apr  4 17:51:35 2015N_26.jpeg\n",
      "img_Sat Apr  4 17:51:35 2015N_25.jpeg\n",
      "img_Sat Apr  4 17:44:16 2015N_4.jpeg\n",
      "img_Sat Apr  4 17:14:22 2015N_37.jpeg\n",
      "img_Sat Apr  4 17:44:44 2015N_20.jpeg\n",
      "img_Sun Feb 22 15:42:28 2015N_6.jpeg\n",
      "img_Sun Feb 22 16:03:35 2015N_572.jpeg\n",
      "img_Sun Feb 22 16:03:45 2015N_591.jpeg\n",
      "img_Sat Apr  4 17:48:45 2015N_16.jpeg\n",
      "img_Sat Apr  4 17:17:15 2015N_47.jpeg\n",
      "img_Sat Apr  4 17:35:11 2015N_1.jpeg\n",
      "img_Sun Feb 22 16:01:23 2015N_361.jpeg\n",
      "img_Sat Apr  4 17:45:31 2015N_27.jpeg\n",
      "img_Sun Feb 22 15:47:50 2015N_42.jpeg\n",
      "img_Sat Apr  4 17:51:07 2015N_18.jpeg\n",
      "img_Sat Apr  4 17:12:52 2015N_26.jpeg\n",
      "img_Sat Apr  4 17:38:47 2015N_11.jpeg\n",
      "img_Sat Apr  4 17:30:22 2015N_2.jpeg\n",
      "img_Sat Apr  4 17:51:14 2015N_22.jpeg\n",
      "img_Sat Apr  4 17:31:20 2015N_9.jpeg\n",
      "img_Sun Feb 22 15:42:59 2015N_79.jpeg\n",
      "img_Sat Apr  4 17:52:06 2015N_36.jpeg\n",
      "img_Sun Feb 22 16:01:30 2015N_380.jpeg\n",
      "img_Sat Apr  4 17:51:45 2015N_29.jpeg\n",
      "img_Sat Apr  4 17:45:31 2015N_26.jpeg\n",
      "img_Sat Apr  4 17:44:30 2015N_16.jpeg\n",
      "img_Sun Feb 22 15:56:42 2015N_85.jpeg\n",
      "img_Sun Feb 22 15:42:30 2015N_13.jpeg\n",
      "img_Sat Apr  4 17:52:03 2015N_35.jpeg\n",
      "img_Sat Apr  4 17:52:03 2015N_34.jpeg\n",
      "img_Sun Feb 22 16:03:59 2015N_614.jpeg\n",
      "img_Sat Apr  4 17:31:16 2015N_6.jpeg\n",
      "img_Sat Apr  4 17:52:28 2015N_41.jpeg\n",
      "img_Sun Feb 22 16:03:34 2015N_570.jpeg\n",
      "img_Sat Apr  4 17:30:20 2015N_0.jpeg\n",
      "img_Sat Apr  4 17:52:29 2015N_42.jpeg\n",
      "img_Sat Apr  4 17:38:50 2015N_12.jpeg\n",
      "img_Sat Apr  4 17:45:36 2015N_28.jpeg\n",
      "img_Sun Feb 22 15:55:44 2015N_8.jpeg\n",
      "img_Sat Apr  4 17:38:31 2015N_2.jpeg\n",
      "img_Sun Feb 22 15:56:09 2015N_68.jpeg\n",
      "img_Sat Apr  4 17:38:46 2015N_10.jpeg\n",
      "img_Sun Feb 22 16:03:54 2015N_608.jpeg\n",
      "img_Sun Feb 22 16:03:15 2015N_528.jpeg\n",
      "img_Sat Apr  4 17:44:21 2015N_6.jpeg\n",
      "img_Sun Feb 22 15:48:29 2015N_64.jpeg\n",
      "img_Sat Apr  4 17:32:59 2015N_33.jpeg\n",
      "img_Sat Apr  4 17:44:23 2015N_9.jpeg\n",
      "img_Sun Feb 22 16:04:42 2015N_690.jpeg\n",
      "img_Sun Feb 22 15:42:50 2015N_53.jpeg\n",
      "img_Sat Apr  4 17:47:49 2015N_5.jpeg\n",
      "img_Sat Apr  4 17:31:17 2015N_7.jpeg\n",
      "img_Sat Apr  4 17:32:49 2015N_32.jpeg\n",
      "img_Sun Feb 22 15:23:19 2015N_8.jpeg\n",
      "img_Sun Feb 22 16:03:52 2015N_604.jpeg\n",
      "img_Sat Apr  4 17:12:29 2015N_22.jpeg\n",
      "img_Sat Apr  4 17:45:44 2015N_30.jpeg\n",
      "img_Sun Feb 22 15:41:35 2015N_25.jpeg\n",
      "img_Sat Apr  4 17:45:06 2015N_23.jpeg\n",
      "img_Sat Apr  4 17:32:12 2015N_30.jpeg\n",
      "img_Sat Apr  4 17:44:23 2015N_8.jpeg\n",
      "img_Sat Apr  4 17:31:28 2015N_13.jpeg\n",
      "img_Sat Apr  4 17:12:40 2015N_24.jpeg\n",
      "img_Sun Feb 22 15:46:12 2015N_16.jpeg\n",
      "img_Sat Apr  4 17:50:49 2015N_10.jpeg\n",
      "img_Sat Apr  4 17:14:34 2015N_41.jpeg\n",
      "img_Sat Apr  4 17:13:05 2015N_27.jpeg\n",
      "img_Sat Apr  4 17:19:06 2015N_57.jpeg\n",
      "img_Sat Apr  4 17:16:52 2015N_46.jpeg\n",
      "img_Sat Apr  4 17:30:24 2015N_3.jpeg\n",
      "img_Sat Apr  4 17:11:25 2015N_0.jpeg\n",
      "img_Sat Apr  4 17:14:46 2015N_42.jpeg\n",
      "img_Sat Apr  4 17:14:58 2015N_44.jpeg\n",
      "img_Sat Apr  4 17:45:47 2015N_31.jpeg\n"
     ]
    },
    {
     "name": "stdout",
     "output_type": "stream",
     "text": [
      "img_Sat Apr  4 17:50:16 2015N_5.jpeg\n",
      "img_Sun Feb 22 15:59:58 2015N_194.jpeg\n",
      "img_Sun Feb 22 15:48:08 2015N_56.jpeg\n",
      "img_Sat Apr  4 17:52:06 2015N_37.jpeg\n",
      "img_Sat Apr  4 17:32:10 2015N_28.jpeg\n",
      "img_Sun Feb 22 15:56:45 2015N_94.jpeg\n",
      "img_Sat Apr  4 17:31:33 2015N_16.jpeg\n",
      "img_Sat Apr  4 17:31:50 2015N_20.jpeg\n",
      "img_Sat Apr  4 17:31:28 2015N_12.jpeg\n",
      "img_Sat Apr  4 17:17:17 2015N_48.jpeg\n",
      "img_Sat Apr  4 17:27:03 2015N_0.jpeg\n",
      "img_Sun Feb 22 16:00:13 2015N_230.jpeg\n",
      "img_Sat Apr  4 17:30:28 2015N_5.jpeg\n",
      "img_Sat Apr  4 17:48:08 2015N_9.jpeg\n",
      "img_Sat Apr  4 17:14:34 2015N_40.jpeg\n",
      "img_Sat Apr  4 17:30:21 2015N_1.jpeg\n",
      "img_Sat Apr  4 17:44:44 2015N_21.jpeg\n",
      "img_Sat Apr  4 17:51:47 2015N_30.jpeg\n",
      "img_Sat Apr  4 17:31:48 2015N_18.jpeg\n",
      "img_Sat Apr  4 17:13:13 2015N_29.jpeg\n",
      "img_Sun Feb 22 16:04:35 2015N_673.jpeg\n",
      "img_Sun Feb 22 15:42:39 2015N_29.jpeg\n",
      "img_Sun Feb 22 15:59:38 2015N_151.jpeg\n",
      "img_Sat Apr  4 17:17:34 2015N_49.jpeg\n",
      "img_Sat Apr  4 17:47:31 2015N_0.jpeg\n",
      "img_Sat Apr  4 17:52:10 2015N_38.jpeg\n",
      "img_Sat Apr  4 17:45:38 2015N_29.jpeg\n",
      "img_Sat Apr  4 17:51:02 2015N_12.jpeg\n",
      "img_Sat Apr  4 17:44:35 2015N_18.jpeg\n",
      "img_Sat Apr  4 17:31:47 2015N_17.jpeg\n",
      "img_Sun Feb 22 15:49:11 2015N_85.jpeg\n",
      "img_Sat Apr  4 17:53:23 2015N_53.jpeg\n",
      "img_Sat Apr  4 17:32:07 2015N_25.jpeg\n",
      "img_Sat Apr  4 17:12:49 2015N_25.jpeg\n",
      "img_Sun Feb 22 16:03:34 2015N_571.jpeg\n",
      "img_Sat Apr  4 17:12:26 2015N_20.jpeg\n",
      "img_Sat Apr  4 17:50:19 2015N_6.jpeg\n",
      "img_Sun Feb 22 15:43:10 2015N_109.jpeg\n",
      "img_Sat Apr  4 17:44:36 2015N_19.jpeg\n",
      "img_Sun Feb 22 16:00:45 2015N_273.jpeg\n",
      "img_Sat Apr  4 17:38:37 2015N_5.jpeg\n",
      "img_Sat Apr  4 17:18:43 2015N_52.jpeg\n",
      "img_Sun Feb 22 15:43:03 2015N_91.jpeg\n",
      "img_Sun Feb 22 15:42:53 2015N_62.jpeg\n",
      "img_Sun Feb 22 16:03:20 2015N_541.jpeg\n",
      "img_Sat Apr  4 17:51:39 2015N_27.jpeg\n",
      "img_Sun Feb 22 16:00:15 2015N_236.jpeg\n",
      "img_Sun Feb 22 16:04:44 2015N_697.jpeg\n",
      "img_Sat Apr  4 17:35:35 2015N_8.jpeg\n",
      "img_Sat Apr  4 17:33:44 2015N_39.jpeg\n",
      "img_Sun Feb 22 15:43:18 2015N_125.jpeg\n",
      "img_Sat Apr  4 17:35:20 2015N_5.jpeg\n",
      "img_Sat Apr  4 17:38:37 2015N_4.jpeg\n",
      "img_Sun Feb 22 15:42:31 2015N_16.jpeg\n",
      "img_Sun Feb 22 15:46:06 2015N_10.jpeg\n",
      "img_Sat Apr  4 17:35:22 2015N_6.jpeg\n",
      "img_Sat Apr  4 17:48:18 2015N_10.jpeg\n",
      "img_Sat Apr  4 17:35:20 2015N_4.jpeg\n",
      "img_Sat Apr  4 17:18:41 2015N_51.jpeg\n",
      "img_Sat Apr  4 17:51:08 2015N_19.jpeg\n",
      "img_Sat Apr  4 17:44:28 2015N_15.jpeg\n",
      "img_Sat Apr  4 17:12:26 2015N_21.jpeg\n",
      "img_Sat Apr  4 17:31:19 2015N_8.jpeg\n",
      "img_Sat Apr  4 17:50:50 2015N_11.jpeg\n",
      "img_Sat Apr  4 17:38:42 2015N_6.jpeg\n",
      "img_Sun Feb 22 15:41:55 2015N_38.jpeg\n",
      "img_Sat Apr  4 17:11:32 2015N_4.jpeg\n",
      "img_Sat Apr  4 17:30:25 2015N_4.jpeg\n",
      "img_Sat Apr  4 17:12:33 2015N_23.jpeg\n",
      "img_Sat Apr  4 17:14:14 2015N_36.jpeg\n",
      "img_Sat Apr  4 17:48:21 2015N_11.jpeg\n",
      "img_Sat Apr  4 17:44:28 2015N_14.jpeg\n",
      "img_Sat Apr  4 17:44:24 2015N_10.jpeg\n",
      "img_Sat Apr  4 17:52:00 2015N_33.jpeg\n",
      "img_Sat Apr  4 17:27:03 2015N_1.jpeg\n",
      "img_Sat Apr  4 17:35:44 2015N_9.jpeg\n",
      "img_Sat Apr  4 17:12:20 2015N_18.jpeg\n",
      "img_Sat Apr  4 17:33:44 2015N_38.jpeg\n",
      "img_Sat Apr  4 17:12:02 2015N_10.jpeg\n",
      "img_Sat Apr  4 17:11:34 2015N_5.jpeg\n",
      "img_Sat Apr  4 17:46:04 2015N_33.jpeg\n",
      "img_Sat Apr  4 17:14:11 2015N_35.jpeg\n",
      "img_Sat Apr  4 17:50:48 2015N_9.jpeg\n",
      "img_Sat Apr  4 17:45:06 2015N_24.jpeg\n",
      "img_Sat Apr  4 17:11:50 2015N_8.jpeg\n",
      "img_Sat Apr  4 17:13:33 2015N_33.jpeg\n",
      "img_Sat Apr  4 17:11:40 2015N_6.jpeg\n",
      "img_Sat Apr  4 17:12:18 2015N_16.jpeg\n",
      "img_Sun Feb 22 15:41:46 2015N_35.jpeg\n",
      "img_Sat Apr  4 17:13:27 2015N_32.jpeg\n",
      "img_Sat Apr  4 17:32:08 2015N_26.jpeg\n",
      "img_Sat Apr  4 17:48:23 2015N_13.jpeg\n",
      "img_Sat Apr  4 17:53:22 2015N_51.jpeg\n",
      "img_Sat Apr  4 17:52:33 2015N_43.jpeg\n",
      "img_Sat Apr  4 17:38:43 2015N_7.jpeg\n",
      "img_Sat Apr  4 17:12:09 2015N_14.jpeg\n",
      "('MODEL ID : ', u'5d96e0a4-5b7b-4a2a-af2d-26238a43e9ad')\n",
      "Label: person :: Count: 209\n",
      "CURRENT STATE :: Some data uploaded\n",
      "Model Accuracy : 0.000000\n"
     ]
    },
    {
     "data": {
      "text/plain": [
       "(u'5d96e0a4-5b7b-4a2a-af2d-26238a43e9ad',\n",
       " u'localization',\n",
       " [{u'count': 209, u'name': u'person'}],\n",
       " 2)"
      ]
     },
     "execution_count": 43,
     "metadata": {},
     "output_type": "execute_result"
    }
   ],
   "source": [
    "_ = upload_objects_by_file(model_id)"
   ]
  },
  {
   "cell_type": "markdown",
   "metadata": {},
   "source": [
    "#### Step 5: Train a model\n",
    "\n",
    "We have uploaded a data to model, now it's time to train a model. Run the code below, sit back and relax for some time. Training is going on."
   ]
  },
  {
   "cell_type": "code",
   "execution_count": 44,
   "metadata": {
    "collapsed": true
   },
   "outputs": [],
   "source": [
    "def train_model(model_id):\n",
    "\n",
    "    headers = {'authorization': 'Basic %s'%AUTH_KEY}\n",
    "    querystring = {'modelId': model_id}\n",
    "    response = requests.request('POST', '%s%s/Train/'%(BASE_URL, model_id), headers=headers, auth=requests.auth.HTTPBasicAuth(AUTH_KEY, ''), params=querystring)\n",
    "    print (\"training started .... \")\n",
    "    print_result(json.loads(response.text))"
   ]
  },
  {
   "cell_type": "code",
   "execution_count": 45,
   "metadata": {},
   "outputs": [
    {
     "name": "stdout",
     "output_type": "stream",
     "text": [
      "training started .... \n",
      "('MODEL ID : ', u'5d96e0a4-5b7b-4a2a-af2d-26238a43e9ad')\n",
      "Label: person :: Count: 209\n",
      "CURRENT STATE :: In queue for training\n",
      "Model Accuracy : 0.000000\n"
     ]
    }
   ],
   "source": [
    "train_model(model_id)"
   ]
  },
  {
   "cell_type": "markdown",
   "metadata": {},
   "source": [
    "#### Model Information: "
   ]
  },
  {
   "cell_type": "markdown",
   "metadata": {},
   "source": [
    "While training is going on, you can check the state of model by `get_model_info` function. When training will finished, state of model will change to 4."
   ]
  },
  {
   "cell_type": "code",
   "execution_count": 46,
   "metadata": {},
   "outputs": [
    {
     "name": "stdout",
     "output_type": "stream",
     "text": [
      "('MODEL ID : ', u'5d96e0a4-5b7b-4a2a-af2d-26238a43e9ad')\n",
      "Label: person :: Count: 256\n",
      "CURRENT STATE :: Training in progress\n",
      "Model Accuracy : 0.000000\n"
     ]
    },
    {
     "data": {
      "text/plain": [
       "(u'5d96e0a4-5b7b-4a2a-af2d-26238a43e9ad',\n",
       " u'localization',\n",
       " [{u'count': 256, u'name': u'person'}],\n",
       " 4)"
      ]
     },
     "execution_count": 46,
     "metadata": {},
     "output_type": "execute_result"
    }
   ],
   "source": [
    "_ = get_model_info(model_id)"
   ]
  },
  {
   "cell_type": "markdown",
   "metadata": {},
   "source": [
    "#### step 6: It's time to predict\n",
    "\n",
    "\n",
    "Keep your test image ready."
   ]
  },
  {
   "cell_type": "code",
   "execution_count": 10,
   "metadata": {
    "collapsed": true
   },
   "outputs": [],
   "source": [
    "test_image_path = \"/Users/atish/Downloads/blog_data/test_images/img_Sat Apr  4 17:11:28 2015N_2.jpeg\""
   ]
  },
  {
   "cell_type": "code",
   "execution_count": 31,
   "metadata": {},
   "outputs": [],
   "source": [
    "from PIL import Image, ImageFont, ImageDraw\n",
    "\n",
    "def predict_single_image(model_id, filepath):\n",
    "    \n",
    "    url = '%s%s/LabelFile/'%(BASE_URL, model_id)\n",
    "    if not test_image_path.endswith(tuple(extentions)):\n",
    "        print (\"provide image with correct extentions\")\n",
    "        return 0\n",
    "    data = {'file': open(filepath, 'rb'),\n",
    "            'modelId': ('', '%s'%model_id)}\n",
    "    response = requests.post(url, auth=requests.auth.HTTPBasicAuth(AUTH_KEY, ''), files=data)\n",
    "    result = json.loads(response.text)\n",
    "    return result\n",
    "\n",
    "def visualize_result(result, image_file):\n",
    "    if result['message'] != \"Success\":\n",
    "        print (\"Error in Prediction\")\n",
    "        return\n",
    "    \n",
    "    img = Image.open(image_file)\n",
    "    draw = ImageDraw.Draw(img)\n",
    "    for res in result['result']:\n",
    "        for pred in res['prediction']:\n",
    "            score = pred['score']\n",
    "            label = pred['label']\n",
    "            bb = [pred['xmin'], pred['ymin'], pred['xmax'], pred['ymax']]\n",
    "            draw.rectangle(bb, outline='red')\n",
    "            draw.text((pred['xmin']+10,  pred['ymin']+10), \"%s:%0.2f\"%(label[:3], score), (0,0,0))\n",
    "    return img"
   ]
  },
  {
   "cell_type": "code",
   "execution_count": null,
   "metadata": {},
   "outputs": [],
   "source": [
    "###### need to set model id if you want to predict on previously trained model\n",
    "\n",
    "# model_id = 'aea81d42-4839-46f7-b0bc-900bf6f4fc36'    ##example mode_id\n",
    "\n",
    "\n",
    "result = predict_single_image(model_id, test_image_path)\n",
    "visualize_result(result, test_image_path)"
   ]
  },
  {
   "cell_type": "code",
   "execution_count": null,
   "metadata": {
    "collapsed": true
   },
   "outputs": [],
   "source": []
  }
 ],
 "metadata": {
  "kernelspec": {
   "display_name": "Python 2",
   "language": "python",
   "name": "python2"
  },
  "language_info": {
   "codemirror_mode": {
    "name": "ipython",
    "version": 2
   },
   "file_extension": ".py",
   "mimetype": "text/x-python",
   "name": "python",
   "nbconvert_exporter": "python",
   "pygments_lexer": "ipython2",
   "version": "2.7.14"
  }
 },
 "nbformat": 4,
 "nbformat_minor": 2
}

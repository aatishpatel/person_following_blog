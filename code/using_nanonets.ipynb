{
 "cells": [
  {
   "cell_type": "markdown",
   "metadata": {},
   "source": [
    "### Here is the simple steps to train model using NanoNets API\n",
    "\n",
    "Previously in blog, we have an intro to Object Detection and how to make predection on tensorflow pre-trained model.\n",
    "Tensorflow pre-trained model has been trained on [COCO dataset](http://cocodataset.org/) which has 90 different objects annotated.\n",
    "\n",
    "Now, what if you want to detect your choice of objects (may or may not be in 90 classes)? So here, we are going to discuss how can we make custom object detection model using simplest way and with less relative data.\n",
    "\n",
    "\n",
    "#### Step 1: Data Preparation\n",
    "\n",
    "What we need? Few images (around 100-200) and their object bounding box annotations. There are many ways to store bounding box annotation, but here I am using XML file to store annotation.\n",
    "\n",
    "Make a work directiory, and open this notebook in same diretory.\n",
    "keep all images in one floder and annotation(.xml) in other folder (name of annotation file should be same as corresponding name of image)\n",
    "\n",
    "Also need to have list of all objects (same name given in annotation)."
   ]
  },
  {
   "cell_type": "code",
   "execution_count": null,
   "metadata": {
    "collapsed": true
   },
   "outputs": [],
   "source": [
    "## change the folder path if needed\n",
    "image_folder = \"../data/Images\"\n",
    "annotation_folder = \"../data/Annotations\"\n",
    "object_list = ['person'] ## will refer as categories\n",
    "extentions = ['.jpeg'] ## list of image extension"
   ]
  },
  {
   "cell_type": "markdown",
   "metadata": {},
   "source": [
    "#### Step 2: Create NanoNets Account\n",
    "\n",
    "To use NanoNets API to train model, you first need to create account on nanonets and get your api key from there"
   ]
  },
  {
   "cell_type": "code",
   "execution_count": null,
   "metadata": {
    "collapsed": true
   },
   "outputs": [],
   "source": [
    "AUTH_KEY = \"\" ## put your api key here"
   ]
  },
  {
   "cell_type": "code",
   "execution_count": null,
   "metadata": {
    "collapsed": true
   },
   "outputs": [],
   "source": [
    "### imports\n",
    "\n",
    "import requests, json, os\n",
    "import xml.etree.ElementTree as ET\n",
    "from tqdm import tqdm\n",
    "from multiprocessing import Pool"
   ]
  },
  {
   "cell_type": "code",
   "execution_count": null,
   "metadata": {
    "collapsed": true
   },
   "outputs": [],
   "source": [
    "#### CONSTANTS\n",
    "BASE_URL = \"https://app.nanonets.com/api/v2/ObjectDetection/Model/\"\n",
    "MODEL_URL = \"https://app.nanonets.com/api/v2/ObjectDetection/Models/\""
   ]
  },
  {
   "cell_type": "markdown",
   "metadata": {},
   "source": [
    "#### Step 3: Initialize new model"
   ]
  },
  {
   "cell_type": "code",
   "execution_count": null,
   "metadata": {
    "collapsed": true
   },
   "outputs": [],
   "source": [
    "def print_result(result):\n",
    "    model_id, model_type, categories, state = (result[\"model_id\"], result[\"model_type\"], result[\"categories\"], result[\"state\"])\n",
    "    \n",
    "    print (\"MODEL ID : %s\"%model_id)\n",
    "    for cat in categories:\n",
    "        print (\"Label: %s :: Count: %d\"%(cat['name'], cat['count']))\n",
    "    \n",
    "    print (\"CURRENT STATE :: %s\"%(result['status']))\n",
    "    print (\"Model Accuracy : %f\"%(result['accuracy']))\n",
    "\n",
    "def create_new_model(categories):\n",
    "    \"\"\" function will create a new model architecture for training\n",
    "    \n",
    "    Args:\n",
    "    categories: List of objects you want to predict\n",
    "    \n",
    "    return:\n",
    "    model_id: a unique reference to new created model\n",
    "    \"\"\"\n",
    "    \n",
    "    \n",
    "    payload = json.dumps({\"categories\" : categories})\n",
    "    headers = {\n",
    "        'Content-Type': \"application/json\",\n",
    "        }\n",
    "\n",
    "    response = requests.request(\"POST\", BASE_URL, headers=headers, auth=requests.auth.HTTPBasicAuth(AUTH_KEY, ''), data=payload)\n",
    "\n",
    "    result = json.loads(response.text)\n",
    "    print_result(result)\n",
    "    model_id, model_type, categories = (result[\"model_id\"], result[\"model_type\"], result[\"categories\"])\n",
    "    return model_id"
   ]
  },
  {
   "cell_type": "code",
   "execution_count": null,
   "metadata": {
    "collapsed": true
   },
   "outputs": [],
   "source": [
    "model_id = create_new_model(object_list)\n",
    "print model_id"
   ]
  },
  {
   "cell_type": "markdown",
   "metadata": {},
   "source": [
    "#### Step 4: upload data\n",
    "We have created a new model, now we need to uplaod the data to train model.\n",
    "Here is the code the upload and xml_file data to model"
   ]
  },
  {
   "cell_type": "code",
   "execution_count": null,
   "metadata": {
    "collapsed": true
   },
   "outputs": [],
   "source": [
    "def get_model_info(model_id):\n",
    "    \"\"\"function to get information about model at any time\n",
    "    Args:\n",
    "    model_id: unique model_id generated at model creation time\n",
    "    \"\"\"\n",
    "    \n",
    "    response = requests.request('GET', '%s%s'%(BASE_URL, model_id), auth= requests.auth.HTTPBasicAuth(AUTH_KEY, ''))\n",
    "    result = json.loads(response.text)\n",
    "    print_result(result)\n",
    "    model_id, model_type, categories, state = (result[\"model_id\"], result[\"model_type\"], result[\"categories\"], result[\"state\"])\n",
    "    return model_id, model_type, categories, state"
   ]
  },
  {
   "cell_type": "code",
   "execution_count": null,
   "metadata": {
    "collapsed": true
   },
   "outputs": [],
   "source": [
    "def get_label(s):\n",
    "    return s.lower().replace(' ', '')\n",
    "\n",
    "def get_annotaion_file_name(image_file):\n",
    "    return os.path.join(annotation_folder, \"%s.gt\"%(image_file))\n",
    "\n",
    "def valid_bb(bb):\n",
    "    xmin, ymin, xmax, ymax = bb\n",
    "    \n",
    "    xmin = max(xmin, 0)\n",
    "    ymin = max(ymin, 0)\n",
    "    \n",
    "    if xmin >= xmax: return False\n",
    "    if ymin >= ymax: return False\n",
    "    \n",
    "    return [xmin, ymin, xmax, ymax]\n",
    "\n",
    "def create_annotation_to_object(image_file):\n",
    "    annotation_file_path = get_annotaion_file_name(image_file)\n",
    "    if not os.path.isfile(annotation_file_path): return False\n",
    "    \n",
    "    bb_list = filter(None, open(annotation_file_path).read().split('\\n'))\n",
    "    object_list = []\n",
    "    for bb_info in bb_list:\n",
    "        try:\n",
    "            xmin, ymin, xmax, ymax, label_text = bb_info.split(' ')\n",
    "            label_text = get_label(label_text)\n",
    "            bb = valid_bb(map(int, [xmin, ymin, xmax, ymax]))\n",
    "            if bb:\n",
    "                bndbox = {}\n",
    "                bndbox['xmin'] = bb[0]\n",
    "                bndbox['ymin'] = bb[1]\n",
    "                bndbox['xmax'] = bb[2]\n",
    "                bndbox['ymax'] = bb[3]\n",
    "                object_list.append({'name': label_text, 'bndbox': bndbox})\n",
    "        except:\n",
    "            print (\"Error in BB : %s for Image : %s\"%(bb_info, image_file))\n",
    "    return object_list\n",
    "\n",
    "def upload_file_data(f):\n",
    "    if not f.endswith(tuple(extentions)): return 0\n",
    "    print (f)\n",
    "    filename = os.path.join(image_folder, f)\n",
    "    file = open(filename, 'rb')\n",
    "    \n",
    "    object_data = create_annotation_to_object(f)\n",
    "    if not object_data: return 0\n",
    "    object_data = json.dumps(object_data)\n",
    "    \n",
    "    data = {'file' : file,\n",
    "                'data' :('', '[{\"filename\":\"%s\", \"object\": %s}]'%(f, object_data)),\n",
    "                'modelId' :('', '%s'%model_id)}\n",
    "    response = requests.post('%s%s/UploadFile/'%(BASE_URL, model_id), auth=requests.auth.HTTPBasicAuth(AUTH_KEY, ''), files=data)\n",
    "    return 1\n",
    "    \n",
    "def upload_objects_by_file(model_id):\n",
    "    pool = Pool(4)\n",
    "    \n",
    "    image_count = 0\n",
    "    print (\"uploading images....\")\n",
    "    results = pool.map(upload_file_data, os.listdir(image_folder))\n",
    "    return get_model_info(model_id)"
   ]
  },
  {
   "cell_type": "code",
   "execution_count": null,
   "metadata": {
    "collapsed": true
   },
   "outputs": [],
   "source": [
    "_ = upload_objects_by_file(model_id)"
   ]
  },
  {
   "cell_type": "markdown",
   "metadata": {},
   "source": [
    "#### Step 5: Train a model\n",
    "\n",
    "We have uploaded a data to model, now it's time to train a model. Run the code below, sit back and relax for some time. Training is going on."
   ]
  },
  {
   "cell_type": "code",
   "execution_count": null,
   "metadata": {
    "collapsed": true
   },
   "outputs": [],
   "source": [
    "def train_model(model_id):\n",
    "\n",
    "    headers = {'authorization': 'Basic %s'%AUTH_KEY}\n",
    "    querystring = {'modelId': model_id}\n",
    "    response = requests.request('POST', '%s%s/Train/'%(BASE_URL, model_id), headers=headers, auth=requests.auth.HTTPBasicAuth(AUTH_KEY, ''), params=querystring)\n",
    "    print (\"training started .... \")\n",
    "    print_result(json.loads(response.text))"
   ]
  },
  {
   "cell_type": "code",
   "execution_count": null,
   "metadata": {
    "collapsed": true
   },
   "outputs": [],
   "source": [
    "train_model(model_id)"
   ]
  },
  {
   "cell_type": "markdown",
   "metadata": {},
   "source": [
    "#### Model Information: "
   ]
  },
  {
   "cell_type": "markdown",
   "metadata": {},
   "source": [
    "While training is going on, you can check the state of model by `get_model_info` function. When training will finished, state of model will change to 4."
   ]
  },
  {
   "cell_type": "code",
   "execution_count": null,
   "metadata": {
    "collapsed": true
   },
   "outputs": [],
   "source": [
    "_ = get_model_info(model_id)"
   ]
  },
  {
   "cell_type": "markdown",
   "metadata": {},
   "source": [
    "#### step 6: It's time to predict\n",
    "\n",
    "\n",
    "Keep your test image ready."
   ]
  },
  {
   "cell_type": "code",
   "execution_count": null,
   "metadata": {
    "collapsed": true
   },
   "outputs": [],
   "source": [
    "test_image_path = \"/Users/atish/Downloads/blog_data/test_images/image1.jpeg\""
   ]
  },
  {
   "cell_type": "code",
   "execution_count": null,
   "metadata": {
    "collapsed": true
   },
   "outputs": [],
   "source": [
    "from PIL import Image, ImageFont, ImageDraw\n",
    "\n",
    "def predict_single_image(model_id, filepath):\n",
    "    \n",
    "    url = '%s%s/LabelFile/'%(BASE_URL, model_id)\n",
    "    if not test_image_path.endswith(tuple(extentions)):\n",
    "        print (\"provide image with correct extentions\")\n",
    "        return 0\n",
    "    data = {'file': open(filepath, 'rb'),\n",
    "            'modelId': ('', '%s'%model_id)}\n",
    "    response = requests.post(url, auth=requests.auth.HTTPBasicAuth(AUTH_KEY, ''), files=data)\n",
    "    result = json.loads(response.text)\n",
    "    return result\n",
    "\n",
    "def visualize_result(result, image_file):\n",
    "    if result['message'] != \"Success\":\n",
    "        print (\"Error in Prediction\")\n",
    "        return\n",
    "    \n",
    "    img = Image.open(image_file)\n",
    "    draw = ImageDraw.Draw(img)\n",
    "    for res in result['result']:\n",
    "        for pred in res['prediction']:\n",
    "            score = pred['score']\n",
    "            label = pred['label']\n",
    "            bb = [pred['xmin'], pred['ymin'], pred['xmax'], pred['ymax']]\n",
    "            draw.rectangle(bb, outline='red')\n",
    "            draw.text((pred['xmin']+10,  pred['ymin']+10), \"%s:%0.2f\"%(label[:3], score), (0,0,0))\n",
    "    return img"
   ]
  },
  {
   "cell_type": "code",
   "execution_count": null,
   "metadata": {},
   "outputs": [],
   "source": [
    "###### need to set model id if you want to predict on previously trained model\n",
    "\n",
    "# model_id = 'aea81d42-4839-46f7-b0bc-900bf6f4fc36'    ##example mode_id\n",
    "\n",
    "\n",
    "result = predict_single_image(model_id, test_image_path)\n",
    "visualize_result(result, test_image_path)"
   ]
  },
  {
   "cell_type": "code",
   "execution_count": null,
   "metadata": {
    "collapsed": true
   },
   "outputs": [],
   "source": []
  }
 ],
 "metadata": {
  "kernelspec": {
   "display_name": "Python 2",
   "language": "python",
   "name": "python2"
  },
  "language_info": {
   "codemirror_mode": {
    "name": "ipython",
    "version": 2
   },
   "file_extension": ".py",
   "mimetype": "text/x-python",
   "name": "python",
   "nbconvert_exporter": "python",
   "pygments_lexer": "ipython2",
   "version": "2.7.14"
  }
 },
 "nbformat": 4,
 "nbformat_minor": 2
}
